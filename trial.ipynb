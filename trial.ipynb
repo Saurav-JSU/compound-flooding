{
 "cells": [
  {
   "cell_type": "code",
   "execution_count": 1,
   "id": "1bcefdea",
   "metadata": {},
   "outputs": [
    {
     "name": "stdout",
     "output_type": "stream",
     "text": [
      "<xarray.Dataset> Size: 21MB\n",
      "Dimensions:                  (datetime: 333095)\n",
      "Coordinates:\n",
      "  * datetime                 (datetime) datetime64[ns] 3MB 1981-01-01 ... 201...\n",
      "Data variables:\n",
      "    total_precipitation      (datetime) float64 3MB ...\n",
      "    u_component_of_wind_10m  (datetime) float64 3MB ...\n",
      "    v_component_of_wind_10m  (datetime) float64 3MB ...\n",
      "    surface_pressure         (datetime) float64 3MB ...\n",
      "    temperature_2m           (datetime) float64 3MB ...\n",
      "    sea_level                (datetime) float64 3MB ...\n",
      "    ground_precipitation     (datetime) float64 3MB ...\n"
     ]
    }
   ],
   "source": [
    "import xarray as xr\n",
    "file_path = 'outputs/cleaned/240A.nc'\n",
    "\n",
    "ds = xr.open_dataset(file_path)\n",
    "\n",
    "print(ds)"
   ]
  },
  {
   "cell_type": "code",
   "execution_count": null,
   "id": "ce896756",
   "metadata": {},
   "outputs": [],
   "source": []
  }
 ],
 "metadata": {
  "kernelspec": {
   "display_name": "Python 3",
   "language": "python",
   "name": "python3"
  },
  "language_info": {
   "codemirror_mode": {
    "name": "ipython",
    "version": 3
   },
   "file_extension": ".py",
   "mimetype": "text/x-python",
   "name": "python",
   "nbconvert_exporter": "python",
   "pygments_lexer": "ipython3",
   "version": "3.10.17"
  }
 },
 "nbformat": 4,
 "nbformat_minor": 5
}
